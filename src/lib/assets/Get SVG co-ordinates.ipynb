{
 "cells": [
  {
   "cell_type": "code",
   "execution_count": 1,
   "id": "55f68c3b",
   "metadata": {},
   "outputs": [],
   "source": [
    "from svgpathtools import parse_path\n",
    "from shapely.geometry import Point, Polygon\n",
    "import xml.etree.ElementTree as ET"
   ]
  },
  {
   "cell_type": "code",
   "execution_count": 2,
   "id": "2cfc0208",
   "metadata": {},
   "outputs": [],
   "source": [
    "# Load the SVG and extract the <path> element\n",
    "svg_file = \"Woman head.svg\"  # Your SVG file\n",
    "tree = ET.parse(svg_file)\n",
    "root = tree.getroot()"
   ]
  },
  {
   "cell_type": "code",
   "execution_count": 3,
   "id": "ca103c4e",
   "metadata": {},
   "outputs": [
    {
     "name": "stdout",
     "output_type": "stream",
     "text": [
      "<Element '{http://www.w3.org/2000/svg}path' at 0x7fd2d11c2cc0>\n"
     ]
    }
   ],
   "source": [
    "path_element = root.find(\".//{http://www.w3.org/2000/svg}path\") \n",
    "if path_element is None:\n",
    "    raise ValueError(\"No path found in SVG\")\n",
    "\n",
    "print(path_element)"
   ]
  },
  {
   "cell_type": "code",
   "execution_count": 7,
   "id": "9aa2bf70",
   "metadata": {},
   "outputs": [],
   "source": [
    "path_data = path_element.attrib[\"d\"]\n",
    "path = parse_path(path_data)  # Convert path data to an SVG path object"
   ]
  },
  {
   "cell_type": "code",
   "execution_count": 8,
   "id": "5ab0204b",
   "metadata": {},
   "outputs": [],
   "source": [
    "points = parse_path_points(svg_content)"
   ]
  },
  {
   "cell_type": "code",
   "execution_count": 12,
   "id": "e1d5d9a2",
   "metadata": {},
   "outputs": [
    {
     "name": "stdout",
     "output_type": "stream",
     "text": [
      "613\n"
     ]
    }
   ],
   "source": [
    "print(len(points))"
   ]
  },
  {
   "cell_type": "code",
   "execution_count": 14,
   "id": "96f0b5cb",
   "metadata": {},
   "outputs": [],
   "source": [
    "# Export points to a JSON file\n",
    "with open('points.json', 'w') as json_file:\n",
    "    json.dump(points, json_file)"
   ]
  },
  {
   "cell_type": "code",
   "execution_count": null,
   "id": "a9ffdcef",
   "metadata": {},
   "outputs": [],
   "source": []
  }
 ],
 "metadata": {
  "kernelspec": {
   "display_name": "Python 3",
   "language": "python",
   "name": "python3"
  },
  "language_info": {
   "codemirror_mode": {
    "name": "ipython",
    "version": 3
   },
   "file_extension": ".py",
   "mimetype": "text/x-python",
   "name": "python",
   "nbconvert_exporter": "python",
   "pygments_lexer": "ipython3",
   "version": "3.8.8"
  }
 },
 "nbformat": 4,
 "nbformat_minor": 5
}
